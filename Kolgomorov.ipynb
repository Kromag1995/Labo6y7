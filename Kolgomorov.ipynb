{
 "cells": [
  {
   "cell_type": "code",
   "execution_count": 2,
   "metadata": {},
   "outputs": [],
   "source": [
    "import numpy as np\n",
    "import matplotlib.pyplot as plt\n",
    "import os"
   ]
  },
  {
   "cell_type": "code",
   "execution_count": 33,
   "metadata": {},
   "outputs": [],
   "source": [
    "com = open ('./Complejidades de Vy t')\n",
    "rk = com.read()"
   ]
  },
  {
   "cell_type": "code",
   "execution_count": 34,
   "metadata": {},
   "outputs": [],
   "source": [
    "rk = rk.replace(\"Archivo & Serie temporal Complejidad Media c y c/b & Serie temporal Complejidad Mediana c y c/b & Serie diferencia temporal Complejidad Media c y c/b & Serie diferencia temporal Complejidad Mediana c y c/b\", \"\")"
   ]
  },
  {
   "cell_type": "code",
   "execution_count": 35,
   "metadata": {},
   "outputs": [],
   "source": [
    "rk = rk.split('\\n')"
   ]
  },
  {
   "cell_type": "code",
   "execution_count": 142,
   "metadata": {},
   "outputs": [],
   "source": [
    "resultados_kolgomorov = {}\n",
    "for fila in rk[1:]:\n",
    "    nombre_del_archivo, com_M_V, com_m_V, com_M_T, com_m_T = fila.split(\"&\")\n",
    "    resultados_kolgomorov[nombre_del_archivo.strip()] = {'com_M_V':float(com_M_V.split(',')[1].strip()), 'com_m_V': float(com_m_V.split(',')[1].strip()), 'com_M_T':float(com_M_T.split(',')[1].strip()), 'com_m_T':float(com_m_T.split(',')[1].strip())}"
   ]
  },
  {
   "cell_type": "code",
   "execution_count": 143,
   "metadata": {},
   "outputs": [],
   "source": [
    "resultados_pv_y_lyap = {}\n",
    "for fe in os.scandir('falsos vecinos'):\n",
    "    if 'png' not in fe.path and 'txt' not in fe.path:\n",
    "        archivo = fe.name.split('.bin')[0]\n",
    "        if not archivo in resultados_pv_y_lyap:\n",
    "            resultados_pv_y_lyap[archivo] = {'V': {}, 't': {}}\n",
    "        V_o_t = fe.name.split('maximos_')[1][0]\n",
    "        fv_o_lyap = fe.name.split('maximos_')[1][1:]\n",
    "        if fv_o_lyap == 'fv':\n",
    "            test = np.loadtxt(fe.path, delimiter=',')\n",
    "            resultados_pv_y_lyap[archivo][V_o_t]['fv'] = {'x': test[:,0], 'y': test[:,1]}\n",
    "        elif fv_o_lyap == 'lyap':\n",
    "            test = np.loadtxt(fe.path, delimiter=',')\n",
    "            resultados_pv_y_lyap[archivo][V_o_t]['lyap'] = {'exp': test[1:-1], 'sum': sum(test[1:-1])}"
   ]
  },
  {
   "cell_type": "code",
   "execution_count": 161,
   "metadata": {},
   "outputs": [
    {
     "name": "stdout",
     "output_type": "stream",
     "text": [
      "DATA_20190307-0004_9_10Millones\n",
      "DATA_20190307-0002_7_10Millones\n",
      "DATA_20190307-0002_6_10Millones\n",
      "DATA_20190307-0002_1_10Millones\n",
      "DATA_20190307-0004_3_10Millones\n",
      "DATA_20190307-0004_5_10Millones\n",
      "DATA_20190307-0004_4_10Millones\n",
      "DATA_20190307-0003_5_28Millones\n",
      "DATA_20190307-0002_2_10Millones\n",
      "DATA_20190307-0003_8_10Millones\n",
      "DATA_20190307-0003_4_37Millones\n",
      "DATA_20190307-0004_6_10Millones\n",
      "DATA_20190307-0004_1_10Millones\n",
      "DATA_20190307-0003_8_37Millones\n",
      "DATA_20190307-0002_9_10Millones\n",
      "DATA_20190307-0003_4_10Millones\n",
      "DATA_20190307-0003_5_10Millones\n",
      "DATA_20190307-0004_2_10Millones\n",
      "DATA_20190307-0004_8_10Millones\n",
      "DATA_20190307-0004_7_10Millones\n",
      "DATA_20190307-0002_4_10Millones\n",
      "DATA_20190307-0002_5_10Millones\n",
      "DATA_20190307-0002_8_10Millones\n",
      "DATA_20190307-0002_3_10Millones\n"
     ]
    },
    {
     "data": {
      "text/plain": [
       "<Figure size 864x504 with 0 Axes>"
      ]
     },
     "metadata": {},
     "output_type": "display_data"
    }
   ],
   "source": [
    "for archivo in resultados_pv_y_lyap:\n",
    "    print(archivo)\n",
    "    for serie in resultados_pv_y_lyap[archivo]:\n",
    "        x = resultados_pv_y_lyap[archivo][serie]['fv']['x']\n",
    "        y = resultados_pv_y_lyap[archivo][serie]['fv']['y']\n",
    "        plt.plot(x,y*100, '.-b')\n",
    "        plt.grid(True)\n",
    "        plt.xlabel(r'Dimension', fontsize=14)\n",
    "        plt.ylabel(r'False nearest neighbours (%)', fontsize=14)\n",
    "        i = check_dE(y)\n",
    "        if i:\n",
    "            plt.plot(x[i-1],y[i-1]*100, '*r')\n",
    "            plt.text(8,80, f\"La dimension de embedding es : {i}\")\n",
    "        #coef_lyap = \"Coef Lyap: \"+ str(resultados_pv_y_lyap[archivo][serie]['lyap']['exp'][:])\n",
    "        #plt.text(8,80,coef_lyap)\n",
    "        suma = np.format_float_scientific(resultados_pv_y_lyap[archivo][serie]['lyap']['sum'], unique=False, precision=4)\n",
    "        Sumatoria = \"Sumatoria: \"+ str(suma)\n",
    "        plt.text(8,75, Sumatoria)\n",
    "        for exponente in resultados_pv_y_lyap[archivo][serie]['lyap']['exp']:\n",
    "            if exponente > 0 and resultados_pv_y_lyap[archivo][serie]['lyap']['sum']<0:\n",
    "                plt.text(9,70, \"Es caotico\")\n",
    "                break\n",
    "        if serie == 'V':\n",
    "            media = np.format_float_scientific(resultados_kolgomorov[archivo]['com_M_V'], unique=False, precision=4)\n",
    "            mediana = np.format_float_scientific(resultados_kolgomorov[archivo]['com_m_V'], unique=False, precision=4)\n",
    "            ck = f\"Complejidades Kolgomorov: media {media} mediana {mediana}\"\n",
    "        else:\n",
    "            media = np.format_float_scientific(resultados_kolgomorov[archivo]['com_M_T'], unique=False, precision=4)\n",
    "            mediana = np.format_float_scientific(resultados_kolgomorov[archivo]['com_m_T'], unique=False, precision=4)\n",
    "            ck = f\"Complejidades Kolgomorov: media {media} mediana {mediana}\"\n",
    "        plt.text(9,65, ck)\n",
    "        plt.ylim((0,102))\n",
    "        plt.savefig(f\"./GraficosFV/{archivo}{serie}.png\")\n",
    "        plt.clf()"
   ]
  },
  {
   "cell_type": "code",
   "execution_count": 149,
   "metadata": {},
   "outputs": [
    {
     "data": {
      "text/plain": [
       "1.019483652827443"
      ]
     },
     "execution_count": 149,
     "metadata": {},
     "output_type": "execute_result"
    }
   ],
   "source": [
    "resultados_kolgomorov['DATA_20190307-0004_9_10Millones']['com_M_V']"
   ]
  },
  {
   "cell_type": "code",
   "execution_count": 153,
   "metadata": {},
   "outputs": [],
   "source": [
    "def check_dE(fvs):\n",
    "    caotico = False\n",
    "    neecsito_ver_mas = True\n",
    "    fv_anterior = 100\n",
    "    for i,fv in enumerate(fvs):\n",
    "        if fv < 0.01:\n",
    "            caotico = True\n",
    "            neecsito_ver_mas = False\n",
    "            break\n",
    "        else:\n",
    "            if fv_anterior == 100:\n",
    "                fv_anterior = fv\n",
    "            else:\n",
    "                variacionfv = 1 - fv/fv_anterior\n",
    "                if variacionfv < -0.1:\n",
    "                    caotico = False\n",
    "                    neecsito_ver_mas = False\n",
    "                    break\n",
    "                elif variacionfv < 0.01 and fv <= 0.05:\n",
    "                    caotico = True\n",
    "                    neecsito_ver_mas = False\n",
    "                    break\n",
    "                fv_anterior = fv\n",
    "    if caotico:\n",
    "        return i+1\n",
    "    else:\n",
    "        return False"
   ]
  }
 ],
 "metadata": {
  "kernelspec": {
   "display_name": "Python 3.6.9 64-bit ('venv': venv)",
   "language": "python",
   "name": "python36964bitvenvvenve30abd35370f4a0580ad528b4a365cff"
  },
  "language_info": {
   "codemirror_mode": {
    "name": "ipython",
    "version": 3
   },
   "file_extension": ".py",
   "mimetype": "text/x-python",
   "name": "python",
   "nbconvert_exporter": "python",
   "pygments_lexer": "ipython3",
   "version": "3.6.9"
  }
 },
 "nbformat": 4,
 "nbformat_minor": 2
}