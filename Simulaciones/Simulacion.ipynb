{
 "cells": [
  {
   "cell_type": "code",
   "execution_count": 30,
   "metadata": {},
   "outputs": [],
   "source": [
    "import numpy as np\n",
    "import matplotlib.pyplot as plt\n",
    "import sympy as sp"
   ]
  },
  {
   "cell_type": "code",
   "execution_count": 31,
   "metadata": {},
   "outputs": [],
   "source": [
    "D = sp.symbols('D')\n",
    "L_1 = sp.symbols('L1')\n",
    "L_2 = sp.symbols('L2')\n",
    "R_1 = sp.symbols('R1')\n",
    "R_2 = sp.symbols('R2')\n",
    "n_1 = sp.symbols('n')\n",
    "l = sp.symbols('l')\n",
    "tita = sp.symbols('\\\\theta')"
   ]
  },
  {
   "cell_type": "code",
   "execution_count": 32,
   "metadata": {},
   "outputs": [],
   "source": [
    "matriz_cristal = sp.Matrix([[1,D/n_1],[0,1]])\n",
    "matriz_n1n2 = sp.Matrix([[1,0],[0,1/n_1]])\n",
    "matriz_n2n1 = sp.Matrix([[1,0],[0,n_1]])\n",
    "matriz_L1 = sp.Matrix([[1,L_1],[0,1]])\n",
    "matriz_L2 = sp.Matrix([[1,L_2],[0,1]])\n",
    "matriz_R1 = sp.Matrix([[1,0],[-2/R_1,1]])\n",
    "matriz_R2 = sp.Matrix([[1,0],[-2/R_2,1]])"
   ]
  },
  {
   "cell_type": "code",
   "execution_count": 33,
   "metadata": {},
   "outputs": [
    {
     "data": {
      "text/latex": [
       "$\\displaystyle \\left[\\begin{matrix}1 - \\frac{2 \\left(L_{1} + \\frac{\\frac{D}{n} + L_{2} n}{n}\\right)}{R_{1}} & \\frac{D \\left(1 - \\frac{2 \\left(L_{1} + \\frac{\\frac{D}{n} + L_{2} n}{n}\\right)}{R_{1}}\\right)}{n} + L_{1} \\left(1 - \\frac{2 \\left(L_{1} + \\frac{\\frac{D}{n} + L_{2} n}{n}\\right)}{R_{1}}\\right) + L_{1} + L_{2} \\left(1 - \\frac{2 \\left(L_{1} + \\frac{\\frac{D}{n} + L_{2} n}{n}\\right)}{R_{1}}\\right) + \\frac{\\frac{D}{n} + L_{2} n}{n}\\\\- \\frac{2}{R_{2}} - \\frac{2 \\left(- \\frac{2 L_{1}}{R_{2}} + \\frac{- \\frac{2 D}{R_{2} n} + n \\left(- \\frac{2 L_{2}}{R_{2}} + 1\\right)}{n}\\right)}{R_{1}} & \\frac{D \\left(- \\frac{2}{R_{2}} - \\frac{2 \\left(- \\frac{2 L_{1}}{R_{2}} + \\frac{- \\frac{2 D}{R_{2} n} + n \\left(- \\frac{2 L_{2}}{R_{2}} + 1\\right)}{n}\\right)}{R_{1}}\\right)}{n} + L_{1} \\left(- \\frac{2}{R_{2}} - \\frac{2 \\left(- \\frac{2 L_{1}}{R_{2}} + \\frac{- \\frac{2 D}{R_{2} n} + n \\left(- \\frac{2 L_{2}}{R_{2}} + 1\\right)}{n}\\right)}{R_{1}}\\right) - \\frac{2 L_{1}}{R_{2}} + L_{2} \\left(- \\frac{2}{R_{2}} - \\frac{2 \\left(- \\frac{2 L_{1}}{R_{2}} + \\frac{- \\frac{2 D}{R_{2} n} + n \\left(- \\frac{2 L_{2}}{R_{2}} + 1\\right)}{n}\\right)}{R_{1}}\\right) + \\frac{- \\frac{2 D}{R_{2} n} + n \\left(- \\frac{2 L_{2}}{R_{2}} + 1\\right)}{n}\\end{matrix}\\right]$"
      ],
      "text/plain": [
       "Matrix([\n",
       "[                              1 - 2*(L1 + (D/n + L2*n)/n)/R1,                                                                                                                    D*(1 - 2*(L1 + (D/n + L2*n)/n)/R1)/n + L1*(1 - 2*(L1 + (D/n + L2*n)/n)/R1) + L1 + L2*(1 - 2*(L1 + (D/n + L2*n)/n)/R1) + (D/n + L2*n)/n],\n",
       "[-2/R2 - 2*(-2*L1/R2 + (-2*D/(R2*n) + n*(-2*L2/R2 + 1))/n)/R1, D*(-2/R2 - 2*(-2*L1/R2 + (-2*D/(R2*n) + n*(-2*L2/R2 + 1))/n)/R1)/n + L1*(-2/R2 - 2*(-2*L1/R2 + (-2*D/(R2*n) + n*(-2*L2/R2 + 1))/n)/R1) - 2*L1/R2 + L2*(-2/R2 - 2*(-2*L1/R2 + (-2*D/(R2*n) + n*(-2*L2/R2 + 1))/n)/R1) + (-2*D/(R2*n) + n*(-2*L2/R2 + 1))/n]])"
      ]
     },
     "execution_count": 33,
     "metadata": {},
     "output_type": "execute_result"
    }
   ],
   "source": [
    "matriz_R2*matriz_L2*matriz_n2n1*matriz_cristal*matriz_n1n2*matriz_L1*matriz_R1*matriz_L1*matriz_cristal*matriz_L2"
   ]
  },
  {
   "cell_type": "code",
   "execution_count": 34,
   "metadata": {},
   "outputs": [],
   "source": [
    "R_2_x = R_2*sp.cos(tita/2)\n",
    "R_2_y = R_2/sp.cos(tita/2)\n",
    "matriz_cristal = sp.Matrix([[1,D/n_1],[0,1]])\n",
    "matriz_n1n2 = sp.Matrix([[1,0],[0,1/n_1]])\n",
    "matriz_n2n1 = sp.Matrix([[1,0],[0,n_1]])\n",
    "matriz_L1 = sp.Matrix([[1,L_1],[0,1]])\n",
    "matriz_L2 = sp.Matrix([[1,L_2],[0,1]])\n",
    "matriz_R1 = sp.Matrix([[1,0],[0,1]])\n",
    "matriz_R2_x = sp.Matrix([[1,0],[-2/R_2_x,1]])\n",
    "matriz_R2_y = sp.Matrix([[1,0],[-2/R_2_y,1]])\n",
    "matriz_R3 = sp.Matrix([[1,0],[0,1]])"
   ]
  },
  {
   "cell_type": "code",
   "execution_count": 35,
   "metadata": {},
   "outputs": [],
   "source": [
    "camino_x = matriz_L2*matriz_R2_x*matriz_L1*matriz_cristal*matriz_cristal*matriz_L1*matriz_R2_x*matriz_L2\n",
    "camino_y = matriz_L2*matriz_R2_y*matriz_L1*matriz_cristal*matriz_cristal*matriz_L1*matriz_R2_y*matriz_L2"
   ]
  },
  {
   "cell_type": "code",
   "execution_count": 36,
   "metadata": {},
   "outputs": [
    {
     "data": {
      "text/latex": [
       "$\\displaystyle \\frac{2 \\left(8 D L_{2} - 4 D R_{2} + 8 L_{1} L_{2} n - 4 L_{1} R_{2} n - 4 L_{2} R_{2} n + R_{2}^{2} n\\right)}{R_{2}^{2} n}$"
      ],
      "text/plain": [
       "2*(8*D*L2 - 4*D*R2 + 8*L1*L2*n - 4*L1*R2*n - 4*L2*R2*n + R2**2*n)/(R2**2*n)"
      ]
     },
     "execution_count": 36,
     "metadata": {},
     "output_type": "execute_result"
    }
   ],
   "source": [
    "(camino_x[0]+camino_x[3]).simplify().subs(tita,0)"
   ]
  },
  {
   "cell_type": "code",
   "execution_count": 37,
   "metadata": {},
   "outputs": [],
   "source": [
    "R_2_x = R_2*sp.cos(tita/2)\n",
    "R_2_y = R_2/sp.cos(tita/2)\n",
    "matriz_cristal = sp.Matrix([[1,D/n_1],[0,1]])\n",
    "matriz_L1 = sp.Matrix([[1,L_1],[0,1]])\n",
    "matriz_L2 = sp.Matrix([[1,L_2-l],[0,1]])\n",
    "matriz_l = sp.Matrix([[1,l],[0,1]])\n",
    "matriz_R1 = sp.Matrix([[1,0],[0,1]])\n",
    "matriz_R2_x = sp.Matrix([[1,0],[-2/R_2_x,1]])\n",
    "matriz_R2_y = sp.Matrix([[1,0],[-2/R_2_y,1]])\n",
    "matriz_R3 = sp.Matrix([[1,0],[0,1]])"
   ]
  },
  {
   "cell_type": "code",
   "execution_count": 38,
   "metadata": {},
   "outputs": [],
   "source": [
    "camino_x = matriz_l*matriz_l*matriz_L2*matriz_R2_x*matriz_L1*matriz_cristal*matriz_cristal*matriz_L1*matriz_R2_x*matriz_L2\n",
    "camino_y = matriz_l*matriz_l*matriz_L2*matriz_R2_y*matriz_L1*matriz_cristal*matriz_cristal*matriz_L1*matriz_R2_y*matriz_L2"
   ]
  },
  {
   "cell_type": "code",
   "execution_count": 95,
   "metadata": {},
   "outputs": [],
   "source": [
    "cD = 2\n",
    "cn_1 = 1.958\n",
    "cR_2= 250\n",
    "cL_2= 200\n",
    "cL_1= 200\n",
    "ctita= 50*3.14/180"
   ]
  },
  {
   "cell_type": "code",
   "execution_count": 100,
   "metadata": {},
   "outputs": [],
   "source": [
    "def w(ll, camino, cD, cn_1, cR_2, cL_2, cL_1, ctita, lamnda=1064,n=1):\n",
    "    AA,BB,CC,DD= sp.simplify(camino.subs([(D,cD),(n_1,cn_1),(R_2,cR_2),(L_1,cL_1),(L_2,cL_2),(tita,ctita)]))\n",
    "    AA = float(AA.subs(l,ll))\n",
    "    BB = float(BB.subs(l,ll))\n",
    "    CC = float(CC.subs(l,ll))\n",
    "    DD = float(DD.subs(l,ll))\n",
    "    result_1 =np.sqrt(lamnda/(np.pi*n))\n",
    "    result_2 =np.sqrt(abs(BB))/((1-((DD+AA)**2)/4)**(1/4))\n",
    "    return result_1*result_2"
   ]
  },
  {
   "cell_type": "code",
   "execution_count": 105,
   "metadata": {},
   "outputs": [],
   "source": [
    "ll = np.linspace(1,200, 200)\n",
    "wx = []\n",
    "wy = []\n",
    "for lll in ll:\n",
    "    wx.append(w(lll, camino_x, cD, cn_1, cR_2, cL_2, cL_1, ctita))\n",
    "    wy.append(w(lll, camino_y, cD, cn_1, cR_2, cL_2, cL_1, ctita))"
   ]
  },
  {
   "cell_type": "code",
   "execution_count": 106,
   "metadata": {},
   "outputs": [
    {
     "data": {
      "image/png": "[encoded data removed]",
      "text/plain": [
       "<Figure size 432x288 with 1 Axes>"
      ]
     },
     "metadata": {
      "needs_background": "light"
     },
     "output_type": "display_data"
    }
   ],
   "source": [
    "plt.plot(ll,wx)\n",
    "plt.plot(ll,wy)\n",
    "plt.plot(ll,np.array(wy)+np.array(wx))\n",
    "plt.grid(True)\n",
    "plt.show()"
   ]
  }
 ],
 "metadata": {
  "kernelspec": {
   "display_name": "Python 3.6.9 64-bit",
   "language": "python",
   "name": "python36964bite1e8a125740c46a9ae3d62f6ec65c250"
  },
  "language_info": {
   "codemirror_mode": {
    "name": "ipython",
    "version": 3
   },
   "file_extension": ".py",
   "mimetype": "text/x-python",
   "name": "python",
   "nbconvert_exporter": "python",
   "pygments_lexer": "ipython3",
   "version": "3.6.9"
  }
 },
 "nbformat": 4,
 "nbformat_minor": 2
}
